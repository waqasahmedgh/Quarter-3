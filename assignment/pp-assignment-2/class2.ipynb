{
 "cells": [
  {
   "cell_type": "code",
   "execution_count": 2,
   "metadata": {},
   "outputs": [
    {
     "name": "stdout",
     "output_type": "stream",
     "text": [
      "32\n"
     ]
    }
   ],
   "source": [
    "first_number : float = 12\n",
    "second_number : float = 20\n",
    "\n",
    "\n",
    "print(first_number+second_number)"
   ]
  },
  {
   "cell_type": "code",
   "execution_count": 1,
   "metadata": {},
   "outputs": [
    {
     "name": "stdout",
     "output_type": "stream",
     "text": [
      "Invalid input! Please enter a valid integer.\n"
     ]
    }
   ],
   "source": [
    "# Using isdigit() for preliminary check (only works for positive integers)\n",
    "input_str = input(\"Enter an integer: \")\n",
    "if input_str.isdigit():\n",
    "    user_input = float(input_str)\n",
    "    print(\"You entered:\", user_input)\n",
    "else:\n",
    "    print(\"Invalid input! Please enter a valid integer.\")"
   ]
  },
  {
   "cell_type": "code",
   "execution_count": 4,
   "metadata": {},
   "outputs": [
    {
     "name": "stdout",
     "output_type": "stream",
     "text": [
      "No.. input is not a number. It's a string\n",
      "No.. input is not a number. It's a string\n",
      "No.. input is not a number. It's a string\n"
     ]
    }
   ],
   "source": [
    "def check_user_input(input):\n",
    "    try:\n",
    "        # Convert it into integer\n",
    "        val = int(input)\n",
    "        print(\"Input is an integer number. Number = \", val)\n",
    "    except ValueError:\n",
    "        try:\n",
    "            # Convert it into float\n",
    "            val = float(input)\n",
    "            print(\"Input is a float  number. Number = \", val)\n",
    "        except ValueError:\n",
    "            print(\"No.. input is not a number. It's a string\")\n",
    "\n",
    "\n",
    "input1 = input(\"Enter your Age \")\n",
    "check_user_input(input1)\n",
    "\n",
    "input2 = input(\"Enter any number \")\n",
    "check_user_input(input2)\n",
    "\n",
    "input2 = input(\"Enter the last number \")\n",
    "check_user_input(input2)"
   ]
  },
  {
   "cell_type": "markdown",
   "metadata": {},
   "source": [
    "   Write a Python program that takes two integer inputs from the user and calculates their sum. The program should perform the following tasks:\n",
    "\n",
    "   1. Prompt the user to enter the first number.\n",
    "   2. Read the input and convert it to an integer.\n",
    "   3. Prompt the user to enter the second number.\n",
    "   4. Read the input and convert it to an integer.\n",
    "   5. Calculate the sum of the two numbers.\n",
    "\n",
    "   Print the total sum with an appropriate message."
   ]
  },
  {
   "cell_type": "code",
   "execution_count": 16,
   "metadata": {},
   "outputs": [
    {
     "name": "stdout",
     "output_type": "stream",
     "text": [
      "Input is a float  number. Number =  3.2\n",
      "Input is a float  number. Number =  3.2\n",
      "Sum of 3.2 and 3.2 is 6.4\n"
     ]
    }
   ],
   "source": [
    "def check_user_input(input):\n",
    "    try:\n",
    "        # Convert it into integer\n",
    "        val = int(input)\n",
    "        print(\"Input is an integer number. Number = \", val)\n",
    "    except ValueError:\n",
    "        try:\n",
    "            # Convert it into float\n",
    "            val = float(input)\n",
    "            print(\"Input is a float  number. Number = \", val)\n",
    "        except ValueError:\n",
    "            print(\"No.. input is not a number. It's a string\")\n",
    "            \n",
    "\n",
    "\n",
    "input1 = input(\"Enter your first number \")\n",
    "check_user_input(input1)\n",
    "\n",
    "input2 = input(\"Enter any second number \")\n",
    "check_user_input(input2)\n",
    "\n",
    "print(f\"Sum of {input1} and {input2} is {float(input1)+float(input2)}\");"
   ]
  },
  {
   "cell_type": "markdown",
   "metadata": {},
   "source": [
    "**Agreement Boot**\n",
    "\n",
    "   Write a program which asks the user what their favorite animal is, and then always responds with \"My favorite animal is also \\_\\_\\_!\" (the blank should be filled in with the user-inputted animal, of course).\n",
    "\n",
    "   Here's a sample run of the program (user input is in bold italics - note the space between the prompt and the user input!):\n",
    "\n",
    "   ```\n",
    "   What's your favorite animal? cow\n",
    "\n",
    "   My favorite animal is also cow!\n",
    "   ```"
   ]
  },
  {
   "cell_type": "code",
   "execution_count": 11,
   "metadata": {},
   "outputs": [
    {
     "name": "stdout",
     "output_type": "stream",
     "text": [
      "My favorite animal is also dog\n"
     ]
    }
   ],
   "source": [
    "favorite_animal :str = input('what\\'s your favorite animals? \\u001b[1m ')\n",
    "\n",
    "print(f\"My favorite animal is also {favorite_animal}\")"
   ]
  },
  {
   "cell_type": "markdown",
   "metadata": {},
   "source": [
    " **Fahrenheit to Celsius**\n",
    "   Write a program which prompts the user for a temperature in Fahrenheit (this can be a number with decimal places!) and outputs the temperature converted to Celsius.\n",
    "\n",
    "   The Celsius scale is widely used to measure temperature, but places still use Fahrenheit. Fahrenheit is another unit for temperature, but the scale is different from Celsius -- for example, 0 degrees Celsius is 32 degrees Fahrenheit!\n",
    "\n",
    "   The equation you should use for converting from Fahrenheit to Celsius is the following:\n",
    "\n",
    "   degrees_celsius = (degrees_fahrenheit - 32) \\* 5.0/9.0\n",
    "\n",
    "   (Note. The .0 after the 5 and 9 matters in the line above!!!)\n",
    "\n",
    "   Here's a sample run of the program (user input is in bold italics):\n",
    "\n",
    "   ```\n",
    "   Enter temperature in Fahrenheit: 76\n",
    "\n",
    "   Temperature: 76.0F = 24.444444444444443C"
   ]
  },
  {
   "cell_type": "code",
   "execution_count": 10,
   "metadata": {},
   "outputs": [
    {
     "name": "stdout",
     "output_type": "stream",
     "text": [
      "Enter temperature in Fahrenheit :76\n",
      "Temperature : 24.444444444444446C\n"
     ]
    }
   ],
   "source": [
    "degree_fahrenheit = input(\"Enter the Temperature in Fahrenheit \")\n",
    "\n",
    "degree_celsius = (float(degree_fahrenheit) - 32) * (5.0/9.0)\n",
    "\n",
    "print(f\"Enter temperature in Fahrenheit :{degree_fahrenheit}\")\n",
    "\n",
    "print(f\"Temperature : {degree_celsius}C\")"
   ]
  },
  {
   "cell_type": "markdown",
   "metadata": {},
   "source": [
    "**Triangle Perimeters**\n",
    "   Prompt the user to enter the lengths of each side of a triangle and then calculate and print the perimeter of the triangle (the sum of all of the side lengths).\n",
    "\n",
    "   Here's a sample run of the program (user input is in bold italics):\n",
    "\n",
    "   ```\n",
    "   What is the length of side 1? 3\n",
    "\n",
    "   What is the length of side 2? 4\n",
    "\n",
    "   What is the length of side 3? 5.5\n",
    "\n",
    "   The perimeter of the triangle is 12.5\n",
    "   ```\n"
   ]
  },
  {
   "cell_type": "code",
   "execution_count": 9,
   "metadata": {},
   "outputs": [
    {
     "name": "stdout",
     "output_type": "stream",
     "text": [
      "The perimeter of the triangle is 36\n"
     ]
    }
   ],
   "source": [
    "l1 :float = float(input(\"What is the length of side 1? \"))\n",
    "\n",
    "l2 :float = float(input(\"What is the length of side 2? \"))\n",
    "\n",
    "l3 :float = float(input(\"What is the length of side 3? \"))\n",
    "\n",
    "\n",
    "\n",
    "print(f\"The perimeter of the triangle is {l1+l2+l3}\")"
   ]
  },
  {
   "cell_type": "markdown",
   "metadata": {},
   "source": [
    "5. **Square Number**\n",
    "   Ask the user for a number and print its square (the product of the number times itself).\n",
    "\n",
    "   Here's a sample run of the program (user input is in bold italics):\n",
    "\n",
    "   ```\n",
    "   Type a number to see its square: 4\n",
    "\n",
    "   4.0 squared is 16.0\n",
    "   ```"
   ]
  },
  {
   "cell_type": "code",
   "execution_count": 18,
   "metadata": {},
   "outputs": [
    {
     "name": "stdout",
     "output_type": "stream",
     "text": [
      "3.6 squared is 12.96\n"
     ]
    }
   ],
   "source": [
    "# Ask the user for a number\n",
    "number : float = float(input(\"Type a number to see its square: \"))\n",
    "\n",
    "# Calculate the square of the number\n",
    "square = number * number\n",
    "\n",
    "# Print the result\n",
    "print(f\"{number} squared is {square}\")\n"
   ]
  },
  {
   "cell_type": "markdown",
   "metadata": {},
   "source": [
    " **Delete a number**\n",
    "   Consider a list named `numbers` with the elements `[1, 2, 3, 4, 5]`. Use list method to delete the number 3?\n"
   ]
  },
  {
   "cell_type": "code",
   "execution_count": 21,
   "metadata": {},
   "outputs": [
    {
     "name": "stdout",
     "output_type": "stream",
     "text": [
      "[1, 2, 4, 5]\n"
     ]
    }
   ],
   "source": [
    "numbers =list( [1, 2, 3, 4, 5])\n",
    "del(numbers[2])\n",
    "print(numbers)"
   ]
  },
  {
   "cell_type": "markdown",
   "metadata": {},
   "source": [
    " **Creating a list**\n",
    "   You have two lists:\n",
    "\n",
    "   - list1 with elements [1, 2, 3]\n",
    "   - list2 with elements [4, 5, 6].\n",
    "   - Create a program using list method to add the elements of list2 to list1."
   ]
  },
  {
   "cell_type": "code",
   "execution_count": 10,
   "metadata": {},
   "outputs": [
    {
     "name": "stdout",
     "output_type": "stream",
     "text": [
      "Original list 1 :[1, 3, 4]\n",
      "Original list 2 : [4, 5, 6]\n",
      "Resultant list is :  [1, 3, 4, 4, 5, 6]\n"
     ]
    }
   ],
   "source": [
    "# list1 = list[1,2,3]\n",
    "# list2 = list[4,5,6]\n",
    "# # [test_list1[i] + test_list2[i] for i in range(len(test_list1))]\n",
    "# res_list = [list1[i]+list2[i] for i in range(len(list1))]\n",
    "# print(res_list)\n",
    "\n",
    "test_list1 = [1, 3, 4]\n",
    "test_list2 = [4, 5, 6]\n",
    "\n",
    "# printing original lists\n",
    "print (\"Original list 1 :\" + str(test_list1))\n",
    "print (\"Original list 2 : \" + str(test_list2))\n",
    "\n",
    "test_list1.extend(test_list2)\n",
    "# printing resultant list \n",
    "print(\"Resultant list is : \" , test_list1)"
   ]
  },
  {
   "cell_type": "markdown",
   "metadata": {},
   "source": [
    " **Pop method**\n",
    "   You have a list named items with the elements `[10, 20, 30, 40]`. If you use the `pop` method without any arguments, what will the list look like and what value will be removed?"
   ]
  },
  {
   "cell_type": "code",
   "execution_count": 11,
   "metadata": {},
   "outputs": [
    {
     "name": "stdout",
     "output_type": "stream",
     "text": [
      "Original List is :  [10, 20, 30, 40]\n",
      "After pop()  [10, 20, 30]\n"
     ]
    }
   ],
   "source": [
    "list_pop= [10,20,30,40]\n",
    "\n",
    "print(\"Original List is : \",list_pop)\n",
    "\n",
    "list_pop.pop()\n",
    "\n",
    "print(\"After pop() \",list_pop)\n",
    "\n"
   ]
  },
  {
   "cell_type": "markdown",
   "metadata": {},
   "source": [
    "**Index Method**\n",
    "   You have a list called colors with the elements `['red', 'blue', 'green', 'yellow']`. If you use the index method to find the position of 'green', what will the index be?"
   ]
  },
  {
   "cell_type": "code",
   "execution_count": 12,
   "metadata": {},
   "outputs": [
    {
     "name": "stdout",
     "output_type": "stream",
     "text": [
      "Index of green color is :  2\n"
     ]
    }
   ],
   "source": [
    "list_color= ['red', 'blue', 'green', 'yellow']\n",
    "\n",
    "print(\"Index of green color is : \",list_color.index('green'))"
   ]
  },
  {
   "cell_type": "markdown",
   "metadata": {},
   "source": [
    " **Get last element**\n",
    "    Fill out the function `get_last_element(lst)` which takes in a list lst as a parameter and prints the last element in the list. The list is guaranteed to be non-empty, but there are no guarantees on its length.\n"
   ]
  },
  {
   "cell_type": "code",
   "execution_count": 18,
   "metadata": {},
   "outputs": [
    {
     "name": "stdout",
     "output_type": "stream",
     "text": [
      "5\n",
      "c\n",
      "The list is empty.\n"
     ]
    }
   ],
   "source": [
    "def get_last_element(lst):\n",
    "    if lst:  # Check if the list is non-empty\n",
    "        print(lst[-1])\n",
    "    else:\n",
    "        print(\"The list is empty.\")\n",
    "\n",
    "\n",
    "get_last_element([1, 2, 3, 4, 5])\n",
    "# Output: 5\n",
    "\n",
    "get_last_element(['a', 'b', 'c'])\n",
    "# Output: 'c'\n",
    "\n",
    "get_last_element([])\n",
    "# Output: List is empty.\n"
   ]
  },
  {
   "cell_type": "markdown",
   "metadata": {},
   "source": [
    "Write a program which continuously asks the user to enter values which are added one by one into a list. When the user presses enter without typing anything, print the list.\n",
    "\n",
    "    Here's a sample run (user input is in blue):\n",
    "\n",
    "    ```\n",
    "    Enter a value: 1\n",
    "    Enter a value: 2\n",
    "    Enter a value: 3\n",
    "    Enter a value:\n",
    "    Here's the list: ['1', '2', '3']\n",
    "    ```"
   ]
  },
  {
   "cell_type": "code",
   "execution_count": 5,
   "metadata": {},
   "outputs": [
    {
     "name": "stdout",
     "output_type": "stream",
     "text": [
      "['2', '2', '3', '6']\n"
     ]
    }
   ],
   "source": [
    "\n",
    "# Initialize an empty list (avoid using 'list' as a variable name)\n",
    "values = []\n",
    "\n",
    "# Loop indefinitely\n",
    "while True:\n",
    "    # Ask the user for input and keep it as a string\n",
    "    number_str = input(\"Enter a number: \")\n",
    "    \n",
    "    # Check if the input is an empty string to exit the loop\n",
    "    if number_str == \"\":\n",
    "        break\n",
    "    \n",
    "    # Append the input to the list\n",
    "    values.append(number_str)\n",
    "\n",
    "# Print the final list of values\n",
    "print(values)\n"
   ]
  }
 ],
 "metadata": {
  "kernelspec": {
   "display_name": "Python 3",
   "language": "python",
   "name": "python3"
  },
  "language_info": {
   "codemirror_mode": {
    "name": "ipython",
    "version": 3
   },
   "file_extension": ".py",
   "mimetype": "text/x-python",
   "name": "python",
   "nbconvert_exporter": "python",
   "pygments_lexer": "ipython3",
   "version": "3.12.4"
  }
 },
 "nbformat": 4,
 "nbformat_minor": 2
}
