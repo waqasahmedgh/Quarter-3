{
 "cells": [
  {
   "cell_type": "markdown",
   "metadata": {},
   "source": [
    "first class"
   ]
  },
  {
   "cell_type": "code",
   "execution_count": 1,
   "metadata": {},
   "outputs": [
    {
     "name": "stdout",
     "output_type": "stream",
     "text": [
      "Hussain age is  21\n",
      "Ahmed is  27\n",
      "Kamran is  47\n"
     ]
    }
   ],
   "source": [
    "hussain_age : int =21\n",
    "ahmed_age : int = 6\n",
    "kamran_age : int = 20\n",
    "\n",
    "print(\"Hussain age is \" , hussain_age)\n",
    "\n",
    "print(\"Ahmed is \" , hussain_age + ahmed_age)\n",
    "\n",
    "print(\"Kamran is \" , kamran_age + hussain_age + ahmed_age)\n",
    "\n"
   ]
  },
  {
   "cell_type": "markdown",
   "metadata": {},
   "source": [
    "string method"
   ]
  },
  {
   "cell_type": "code",
   "execution_count": 2,
   "metadata": {},
   "outputs": [
    {
     "name": "stdout",
     "output_type": "stream",
     "text": [
      "Pakistan Zinda bad\n",
      "<class 'str'>\n",
      "1495000520304\n",
      "Pakistan zinda bad\n",
      "['capitalize', 'casefold', 'center', 'count', 'encode', 'endswith', 'expandtabs', 'find', 'format', 'format_map', 'index', 'isalnum', 'isalpha', 'isascii', 'isdecimal', 'isdigit', 'isidentifier', 'islower', 'isnumeric', 'isprintable', 'isspace', 'istitle', 'isupper', 'join', 'ljust', 'lower', 'lstrip', 'maketrans', 'partition', 'removeprefix', 'removesuffix', 'replace', 'rfind', 'rindex', 'rjust', 'rpartition', 'rsplit', 'rstrip', 'split', 'splitlines', 'startswith', 'strip', 'swapcase', 'title', 'translate', 'upper', 'zfill']\n"
     ]
    }
   ],
   "source": [
    "name : str = \"Pakistan Zinda bad\"\n",
    "print(name) # print\n",
    "print(type(name)) # type\n",
    "print(id(name)) # physcial address\n",
    "print(name.capitalize()) \n",
    "print([i for i in dir(name) if \"__\" not in i]) # methods and attributes"
   ]
  },
  {
   "cell_type": "markdown",
   "metadata": {},
   "source": [
    "# Use an f-string to create a sentence in the format: \"Alice is 30 years old and lives in New York.\"\n"
   ]
  },
  {
   "cell_type": "code",
   "execution_count": 1,
   "metadata": {},
   "outputs": [
    {
     "name": "stdout",
     "output_type": "stream",
     "text": [
      "Alice is 30 years old and lives in the New York\n"
     ]
    }
   ],
   "source": [
    "name:str = \"Alice\"\n",
    "age:int = 30\n",
    "city:str = \"New York\"\n",
    "\n",
    "# Use an f-string to create a sentence in the format:\n",
    "#  \"Alice is 30 years old and lives in New York.\"\n",
    "\n",
    "print(f\"{name} is {age} years old and lives in the {city}\")"
   ]
  },
  {
   "cell_type": "markdown",
   "metadata": {},
   "source": [
    "Capitalize the first letter: make the first character uppercase and the rest of the string lowercase.\n",
    "Convert to uppercase: change all characters in the string to uppercase.\n",
    "Convert to lowercase: change all characters in the string to lowercase."
   ]
  },
  {
   "cell_type": "code",
   "execution_count": 4,
   "metadata": {},
   "outputs": [
    {
     "name": "stdout",
     "output_type": "stream",
     "text": [
      "Hello world\n",
      "HELLO WORLD\n",
      "hello world\n"
     ]
    }
   ],
   "source": [
    "s:str = \"hElLo WoRlD\"\n",
    "\n",
    "print(s.capitalize())\n",
    "print(s.upper())\n",
    "print(s.lower())\n"
   ]
  },
  {
   "cell_type": "markdown",
   "metadata": {},
   "source": [
    "Find the index of \"fox\": get the starting index of the substring \"fox\". If \"fox\" is not found, it should return -1.\n",
    "Count occurrences of \"the\": Use the string's built-in method to count how many times the substring \"the\" appears in the string."
   ]
  },
  {
   "cell_type": "code",
   "execution_count": 15,
   "metadata": {},
   "outputs": [
    {
     "name": "stdout",
     "output_type": "stream",
     "text": [
      "Index of fox is 16\n",
      "Index of fox is -1\n",
      "\"the\" appears 2 time\n"
     ]
    }
   ],
   "source": [
    "s:str =\"the quick brown fox jumps over the lazy dog\"\n",
    "\n",
    "print(f\"Index of fox is {s.find(\"fox\")}\")\n",
    "\n",
    "print(f\"Index of fox is {s.find(\"aa\")}\")\n",
    "print(f\"\"\"\"the\" appears {s.count(\"the\")} time\"\"\")\n"
   ]
  },
  {
   "cell_type": "markdown",
   "metadata": {},
   "source": [
    "Replace \"Python\" with \"Java\": substitute \"Python\" with \"Java\"."
   ]
  },
  {
   "cell_type": "code",
   "execution_count": 16,
   "metadata": {},
   "outputs": [
    {
     "name": "stdout",
     "output_type": "stream",
     "text": [
      "I love programming in Java\n"
     ]
    }
   ],
   "source": [
    "s:str =\"I love programming in Python\"\n",
    "\n",
    "print(s.replace(\"Python\",\"Java\"))"
   ]
  },
  {
   "cell_type": "markdown",
   "metadata": {},
   "source": [
    "Split into a list: break the string into a list of substrings based on the delimiter ,\n",
    "\n",
    "Join with spaces: combine the list of substrings back into a single string, with each element separated by a space."
   ]
  },
  {
   "cell_type": "code",
   "execution_count": 29,
   "metadata": {},
   "outputs": [
    {
     "name": "stdout",
     "output_type": "stream",
     "text": [
      "['apple', 'banana', 'cherry', 'dates']\n",
      "a p p l e , b a n a n a , c h e r r y , d a t e s\n"
     ]
    }
   ],
   "source": [
    "s:str =\"apple,banana,cherry,dates\"\n",
    "print(s.split(\",\"))\n",
    "print(' '.join(s))\n"
   ]
  },
  {
   "cell_type": "markdown",
   "metadata": {},
   "source": [
    "Remove leading/trailing spaces: remove all leading and trailing whitespace characters from the string.\n",
    "Left justify with '*': left justify the string within a field of width 20, using * as the fill character.\n",
    "Right justify with '*': right justify the string within a field of width 20, using * as the fill character."
   ]
  },
  {
   "cell_type": "code",
   "execution_count": 35,
   "metadata": {},
   "outputs": [
    {
     "name": "stdout",
     "output_type": "stream",
     "text": [
      "Python is fun!\n",
      "   Python is fun!   \n",
      "   Python is fun!   \n"
     ]
    }
   ],
   "source": [
    "s:str =\"   Python is fun!   \"\n",
    "\n",
    "print(s.strip())\n",
    "print(s.ljust(20,\"*\"))\n",
    "print(s.rjust(20,\"*\"))\n"
   ]
  },
  {
   "cell_type": "markdown",
   "metadata": {},
   "source": [
    "# Obtain the binary representation of num"
   ]
  },
  {
   "cell_type": "code",
   "execution_count": 38,
   "metadata": {},
   "outputs": [
    {
     "name": "stdout",
     "output_type": "stream",
     "text": [
      "Binary representation : 0b101101\n"
     ]
    }
   ],
   "source": [
    "num:int = 45\n",
    "\n",
    "print(\"Binary representation : \"+ bin(num))"
   ]
  },
  {
   "cell_type": "markdown",
   "metadata": {},
   "source": [
    "# Compute base raised to the power of exponent."
   ]
  },
  {
   "cell_type": "code",
   "execution_count": 40,
   "metadata": {},
   "outputs": [
    {
     "name": "stdout",
     "output_type": "stream",
     "text": [
      "Power result:  81\n"
     ]
    }
   ],
   "source": [
    "base:int = 3\n",
    "exponent:int = 4\n",
    "\n",
    "\n",
    "print(\"Power result: \" , base**exponent)"
   ]
  },
  {
   "cell_type": "markdown",
   "metadata": {},
   "source": [
    "Task: Given a floating-point number value\n",
    "Round value to the nearest integer.\n",
    "Round value to two decimal places."
   ]
  },
  {
   "cell_type": "code",
   "execution_count": 43,
   "metadata": {},
   "outputs": [
    {
     "name": "stdout",
     "output_type": "stream",
     "text": [
      "12\n",
      "12.35\n"
     ]
    }
   ],
   "source": [
    "value:float = 12.34567\n",
    "print(round(value))\n",
    "\n",
    "print(round(value, 2))"
   ]
  }
 ],
 "metadata": {
  "kernelspec": {
   "display_name": "Python 3",
   "language": "python",
   "name": "python3"
  },
  "language_info": {
   "codemirror_mode": {
    "name": "ipython",
    "version": 3
   },
   "file_extension": ".py",
   "mimetype": "text/x-python",
   "name": "python",
   "nbconvert_exporter": "python",
   "pygments_lexer": "ipython3",
   "version": "3.12.4"
  }
 },
 "nbformat": 4,
 "nbformat_minor": 2
}
