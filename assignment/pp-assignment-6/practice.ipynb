{
 "cells": [
  {
   "cell_type": "code",
   "execution_count": null,
   "metadata": {},
   "outputs": [],
   "source": [
    "# The line if __name__ == \"__main__\": is a common Python idiom used to control the execution of code. Here’s a breakdown of what it does:\n",
    "\n",
    "# What is __name__?\n",
    "# In Python, __name__ is a special built-in variable. It represents the name of the module or script being executed.\n",
    "\n",
    "# When a Python file is run directly (e.g., python script.py), the __name__ variable is set to \"__main__\".\n",
    "# When a Python file is imported as a module into another script (e.g., import script), the __name__ variable is set to the name of the module (\"script\" in this case).\n",
    "\n",
    "# What does if __name__ == \"__main__\": do?\n",
    "# This conditional statement checks whether the script is being run directly or imported as a module:\n",
    "\n",
    "# If the script is run directly: The condition __name__ == \"__main__\" evaluates to True, and the block of code under this condition will be executed.\n",
    "# If the script is imported as a module: The condition evaluates to False, and the block of code will not execute.\n",
    "# Why is it used?\n",
    "# This idiom allows you to:\n",
    "\n",
    "# Run code only when the script is executed directly: Useful for testing or running code that should not execute when the script is imported as a module elsewhere.\n",
    "# Define functions and classes in the script: These can be reused by importing the script without executing the test or demo code."
   ]
  },
  {
   "cell_type": "code",
   "execution_count": 4,
   "metadata": {},
   "outputs": [
    {
     "name": "stdout",
     "output_type": "stream",
     "text": [
      "Playing High-Low Game!\n"
     ]
    }
   ],
   "source": [
    "def high_low_game():\n",
    "    # Game logic here\n",
    "    print(\"Playing High-Low Game!\")\n",
    "\n",
    "# This block will only run if the script is executed directly\n",
    "if __name__ == \"__main__\":\n",
    "    high_low_game()\n"
   ]
  }
 ],
 "metadata": {
  "kernelspec": {
   "display_name": "Python 3",
   "language": "python",
   "name": "python3"
  },
  "language_info": {
   "codemirror_mode": {
    "name": "ipython",
    "version": 3
   },
   "file_extension": ".py",
   "mimetype": "text/x-python",
   "name": "python",
   "nbconvert_exporter": "python",
   "pygments_lexer": "ipython3",
   "version": "3.12.4"
  }
 },
 "nbformat": 4,
 "nbformat_minor": 2
}
