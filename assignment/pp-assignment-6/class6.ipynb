{
 "cells": [
  {
   "cell_type": "markdown",
   "metadata": {},
   "source": [
    "Enter your name: Alex\n",
    "Enter your first favorite number: 4\n",
    "Enter your second favorite number: 6\n",
    "Enter your third favorite number: 9\n",
    "\n",
    "Hello, Alex! Let's explore your favorite numbers:\n",
    "The number 4 is even.\n",
    "The number 6 is even.\n",
    "The number 9 is odd.\n",
    "The number 4 and its square: (4, 16)\n",
    "The number 6 and its square: (6, 36)\n",
    "The number 9 and its square: (9, 81)\n",
    "\n",
    "Amazing! The sum of your favorite numbers is: 19\n",
    "Wow, 19 is a prime number!"
   ]
  },
  {
   "cell_type": "code",
   "execution_count": null,
   "metadata": {},
   "outputs": [],
   "source": []
  }
 ],
 "metadata": {
  "language_info": {
   "name": "python"
  }
 },
 "nbformat": 4,
 "nbformat_minor": 2
}
